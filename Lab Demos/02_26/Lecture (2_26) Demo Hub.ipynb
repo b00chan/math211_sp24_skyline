{
 "cells": [
  {
   "cell_type": "markdown",
   "id": "ad2e12c1",
   "metadata": {},
   "source": [
    "# [Python Reference Link](http://www.data8.org/sp20/python-reference.html)\n",
    "*Run the cell below so that we can set our modules up*"
   ]
  },
  {
   "cell_type": "code",
   "execution_count": null,
   "id": "ed49d269",
   "metadata": {},
   "outputs": [],
   "source": [
    "import numpy as np\n",
    "from datascience import *\n",
    "\n",
    "# These lines set up graphing capabilities.\n",
    "import matplotlib\n",
    "%matplotlib inline\n",
    "import matplotlib.pyplot as plt\n",
    "plt.style.use('fivethirtyeight')\n",
    "import warnings\n",
    "warnings.simplefilter('ignore', FutureWarning)\n",
    "\n",
    "from ipywidgets import interact, interactive, fixed, interact_manual\n",
    "import ipywidgets as widgets"
   ]
  },
  {
   "cell_type": "markdown",
   "id": "5b6a4570",
   "metadata": {},
   "source": [
    "# Creating Functions"
   ]
  },
  {
   "cell_type": "code",
   "execution_count": null,
   "id": "2569931d",
   "metadata": {},
   "outputs": [],
   "source": [
    "def name_here(sample_input):\n",
    "    #\n",
    "    return output"
   ]
  },
  {
   "cell_type": "code",
   "execution_count": null,
   "id": "b3b217d0",
   "metadata": {},
   "outputs": [],
   "source": []
  },
  {
   "cell_type": "markdown",
   "id": "c5f4467f",
   "metadata": {},
   "source": [
    "# Applying Functions"
   ]
  },
  {
   "cell_type": "code",
   "execution_count": null,
   "id": "783b5878",
   "metadata": {
    "scrolled": true
   },
   "outputs": [],
   "source": [
    "math211_survey = Table.read_table('Sp24_Math_211_Survey_cleaned.csv')\n",
    "math211_survey.show(4)"
   ]
  },
  {
   "cell_type": "markdown",
   "id": "182c554c",
   "metadata": {},
   "source": [
    "### Update: \n",
    "I cleaned up the Google Sheet that contained our survey responses [HERE](https://docs.google.com/spreadsheets/d/1m7cPE2gUMboq6v6w8t8fuMif8auW103er_ylCyLkXlI/edit?usp=sharing). \n",
    "\n",
    "### Inquiry: \n",
    "Although the survey lists our responses about desired travel destination, **by name**, I want to capture a sense of **how far** they are from our campus. So, I used a website (called [\"distance.to\"](https://www.distance.to/San-Bruno,CA,USA) to find the distance to each mentioned travel destination and I got the following table: "
   ]
  },
  {
   "cell_type": "code",
   "execution_count": null,
   "id": "2f00f240",
   "metadata": {},
   "outputs": [],
   "source": [
    "travel_distances = Table.read_table('Travel_Destination_Distances.csv')\n",
    "travel_distances"
   ]
  },
  {
   "cell_type": "markdown",
   "id": "136ccaa1",
   "metadata": {},
   "source": [
    "### Applying our function to the table\n",
    "First, we will start with looking at how to import our data into the notebook:\n",
    "<img src=\"apply_function.png\" alt=\"drawing\" width=\"1200\"/>\n",
    "*From the [Python reference](http://www.data8.org/sp20/python-reference.html) page"
   ]
  },
  {
   "cell_type": "code",
   "execution_count": null,
   "id": "571303f3",
   "metadata": {},
   "outputs": [],
   "source": []
  },
  {
   "cell_type": "code",
   "execution_count": null,
   "id": "9339d371",
   "metadata": {},
   "outputs": [],
   "source": []
  },
  {
   "cell_type": "code",
   "execution_count": null,
   "id": "f7acb023",
   "metadata": {},
   "outputs": [],
   "source": []
  },
  {
   "cell_type": "markdown",
   "id": "63a196ca",
   "metadata": {},
   "source": [
    "## Let's create some other functions to try and apply to our table"
   ]
  },
  {
   "cell_type": "markdown",
   "id": "9ea60805",
   "metadata": {},
   "source": [
    "With your group, come up with another function that we can try and apply to `math211_survey` table. If you can, define your function and apply it to the table. Otherwise, if we are unfamiliar with Python methods (i.e. string methods, list methods, etc.), check in with me to chat about your approach to the function and how would you apply it. Feel free to get creative! "
   ]
  },
  {
   "cell_type": "code",
   "execution_count": null,
   "id": "84030c94",
   "metadata": {},
   "outputs": [],
   "source": []
  },
  {
   "cell_type": "code",
   "execution_count": null,
   "id": "dcc89bc5",
   "metadata": {},
   "outputs": [],
   "source": []
  },
  {
   "cell_type": "code",
   "execution_count": null,
   "id": "9782a390",
   "metadata": {},
   "outputs": [],
   "source": []
  }
 ],
 "metadata": {
  "kernelspec": {
   "display_name": "Python 3 (ipykernel)",
   "language": "python",
   "name": "python3"
  },
  "language_info": {
   "codemirror_mode": {
    "name": "ipython",
    "version": 3
   },
   "file_extension": ".py",
   "mimetype": "text/x-python",
   "name": "python",
   "nbconvert_exporter": "python",
   "pygments_lexer": "ipython3",
   "version": "3.10.11"
  }
 },
 "nbformat": 4,
 "nbformat_minor": 5
}
