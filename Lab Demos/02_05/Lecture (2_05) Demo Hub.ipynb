{
 "cells": [
  {
   "cell_type": "markdown",
   "id": "7f85cd2c",
   "metadata": {},
   "source": [
    "# [Python Reference Link](http://www.data8.org/sp20/python-reference.html)\n",
    "*Run the cell below so that we can set our modules up*"
   ]
  },
  {
   "cell_type": "code",
   "execution_count": null,
   "id": "3b5e82ac",
   "metadata": {},
   "outputs": [],
   "source": [
    "import numpy as np\n",
    "from datascience import *\n",
    "import math"
   ]
  },
  {
   "cell_type": "markdown",
   "id": "219d2543",
   "metadata": {},
   "source": [
    "# Numbers "
   ]
  },
  {
   "cell_type": "code",
   "execution_count": null,
   "id": "22c36f0c",
   "metadata": {},
   "outputs": [],
   "source": [
    "10/3"
   ]
  },
  {
   "cell_type": "code",
   "execution_count": null,
   "id": "6846b5bd",
   "metadata": {},
   "outputs": [],
   "source": [
    "3"
   ]
  },
  {
   "cell_type": "code",
   "execution_count": null,
   "id": "d976a29b",
   "metadata": {},
   "outputs": [],
   "source": [
    "3.0"
   ]
  },
  {
   "cell_type": "code",
   "execution_count": null,
   "id": "35263ecb",
   "metadata": {},
   "outputs": [],
   "source": [
    "1.329487569238476592348765293456293478650234875029438"
   ]
  },
  {
   "cell_type": "code",
   "execution_count": null,
   "id": "ef9133ac",
   "metadata": {},
   "outputs": [],
   "source": [
    "123.5**123"
   ]
  },
  {
   "cell_type": "code",
   "execution_count": null,
   "id": "609cf4f0",
   "metadata": {},
   "outputs": [],
   "source": []
  },
  {
   "cell_type": "markdown",
   "id": "4276d7f4",
   "metadata": {},
   "source": [
    "# Strings"
   ]
  },
  {
   "cell_type": "code",
   "execution_count": null,
   "id": "9fce4afd",
   "metadata": {},
   "outputs": [],
   "source": [
    "'Here is a string'"
   ]
  },
  {
   "cell_type": "code",
   "execution_count": null,
   "id": "e720ee5e",
   "metadata": {},
   "outputs": [],
   "source": [
    "\"Here is a string as well\""
   ]
  },
  {
   "cell_type": "code",
   "execution_count": null,
   "id": "2b820986",
   "metadata": {},
   "outputs": [],
   "source": [
    "greeting = 'hi, wassup'"
   ]
  },
  {
   "cell_type": "code",
   "execution_count": null,
   "id": "4b600a55",
   "metadata": {},
   "outputs": [],
   "source": [
    "greeting"
   ]
  },
  {
   "cell_type": "code",
   "execution_count": null,
   "id": "cf412267",
   "metadata": {},
   "outputs": [],
   "source": [
    "greeting +' class'"
   ]
  },
  {
   "cell_type": "code",
   "execution_count": null,
   "id": "ac893ae8",
   "metadata": {},
   "outputs": [],
   "source": [
    "x = 'ha'\n",
    "'mua'+x*10"
   ]
  },
  {
   "cell_type": "markdown",
   "id": "bf98c13b",
   "metadata": {},
   "source": [
    "### Challenge! \n",
    "\n",
    "In the code cell below, try to create a print line that says (verbatim): <br> \n",
    "\n",
    "\"I don't like sand.\" - Anakin Skywalker "
   ]
  },
  {
   "cell_type": "code",
   "execution_count": null,
   "id": "003e09db",
   "metadata": {},
   "outputs": [],
   "source": []
  },
  {
   "cell_type": "markdown",
   "id": "bc75ee7e",
   "metadata": {},
   "source": [
    "# Types"
   ]
  },
  {
   "cell_type": "code",
   "execution_count": null,
   "id": "eabdc642",
   "metadata": {},
   "outputs": [],
   "source": [
    "float(str(5678))"
   ]
  },
  {
   "cell_type": "code",
   "execution_count": null,
   "id": "385b7bfa",
   "metadata": {},
   "outputs": [],
   "source": [
    "type(greeting)"
   ]
  },
  {
   "cell_type": "code",
   "execution_count": null,
   "id": "2d37815d",
   "metadata": {},
   "outputs": [],
   "source": [
    "abs?"
   ]
  },
  {
   "cell_type": "code",
   "execution_count": null,
   "id": "af9bc296",
   "metadata": {},
   "outputs": [],
   "source": []
  },
  {
   "cell_type": "markdown",
   "id": "49ac03aa",
   "metadata": {},
   "source": [
    "# Looking at the difference between the Strings, Ints, and Floats"
   ]
  },
  {
   "cell_type": "code",
   "execution_count": null,
   "id": "212a2265",
   "metadata": {},
   "outputs": [],
   "source": [
    "print('4'+'4')\n",
    "print(4+4)"
   ]
  },
  {
   "cell_type": "code",
   "execution_count": null,
   "id": "7dadff8b",
   "metadata": {},
   "outputs": [],
   "source": []
  },
  {
   "cell_type": "markdown",
   "id": "a1bc0d6a",
   "metadata": {},
   "source": [
    "# Arrays and the [NumPy Module](https://numpy.org/doc/stable/reference/index.html)"
   ]
  },
  {
   "cell_type": "code",
   "execution_count": null,
   "id": "2941b733",
   "metadata": {},
   "outputs": [],
   "source": [
    "first_four = make_array(1,2,3,4)"
   ]
  },
  {
   "cell_type": "code",
   "execution_count": null,
   "id": "c1e02db0",
   "metadata": {},
   "outputs": [],
   "source": [
    "first_four"
   ]
  },
  {
   "cell_type": "code",
   "execution_count": null,
   "id": "b4175494",
   "metadata": {},
   "outputs": [],
   "source": [
    "random = make_array(1,4,\"this string\")"
   ]
  },
  {
   "cell_type": "code",
   "execution_count": null,
   "id": "fb351c16",
   "metadata": {},
   "outputs": [],
   "source": [
    "random*4"
   ]
  },
  {
   "cell_type": "markdown",
   "id": "56802e77",
   "metadata": {},
   "source": [
    "# Table Operations \n",
    "\n",
    "I strongly recommend adding the [Python Reference Page](https://www.data8.org/sp20/python-reference.html) to your bookmarks for reference! It is a sort of cheat sheet for the course! \n",
    "\n",
    "### Importing a Table\n",
    "First, we will start with looking at how to import our data into the notebook:\n",
    "<img src=\"Creating_Table.png\" alt=\"drawing\" width=\"1200\"/>\n",
    "*From the Python reference page"
   ]
  },
  {
   "cell_type": "code",
   "execution_count": null,
   "id": "4b67fa2a",
   "metadata": {},
   "outputs": [],
   "source": [
    "Table().read_table('Math211_Class_Survey_OG.csv')"
   ]
  },
  {
   "cell_type": "markdown",
   "id": "10c673ce",
   "metadata": {},
   "source": [
    "### Taking a look at the Table\n",
    "\n",
    "Whenever we want to take a look at the table itself. \n",
    "<img src=\"Table_show.png\" alt=\"drawing\" width=\"1200\"/>"
   ]
  },
  {
   "cell_type": "code",
   "execution_count": null,
   "id": "773a6a80",
   "metadata": {},
   "outputs": [],
   "source": [
    "tbl.show()"
   ]
  },
  {
   "attachments": {},
   "cell_type": "markdown",
   "id": "9e543e00",
   "metadata": {},
   "source": [
    "### Identifying the Dimensions of a Table\n",
    "\n",
    "In other words, the number of rows and columns in a given table.\n",
    "<img src=\"Table_dimensions.png\" alt=\"drawing\" width=\"1200\"/>\n"
   ]
  },
  {
   "cell_type": "code",
   "execution_count": null,
   "id": "1618c5cf",
   "metadata": {},
   "outputs": [],
   "source": [
    "# It is important to note that each row typically depicts the individuals we are interested in studying\n",
    "tbl.num_rows"
   ]
  },
  {
   "cell_type": "code",
   "execution_count": null,
   "id": "d86036a4",
   "metadata": {},
   "outputs": [],
   "source": [
    "# It is important to note that each column typically depicts the characteristics/variables of all individuals\n",
    "# we are interested in studying. \n",
    "tbl.num_columns"
   ]
  },
  {
   "cell_type": "markdown",
   "id": "5837812e",
   "metadata": {},
   "source": [
    "### Narrowing down the number of columns from the original table \n",
    "\n",
    "This can be done by choosing which columns to **only include (i.e. 'select')** or which columns to **exclude (i.e. 'drop')** from the original table. \n",
    "\n",
    "<img src=\"Table_select_drop.png\" alt=\"drawing\" width=\"1200\"/>"
   ]
  },
  {
   "cell_type": "code",
   "execution_count": null,
   "id": "cdaff5d5",
   "metadata": {},
   "outputs": [],
   "source": [
    "tbl.select()"
   ]
  },
  {
   "cell_type": "code",
   "execution_count": null,
   "id": "a2a5e4a1",
   "metadata": {},
   "outputs": [],
   "source": [
    "tbl.drop()"
   ]
  },
  {
   "attachments": {},
   "cell_type": "markdown",
   "id": "88a6843f",
   "metadata": {},
   "source": [
    "### Sorting columns of a table\n",
    "\n",
    "This is our first method (i.e. 'action') that contains an optional argument:\n",
    "<img src=\"Table_sort.png\" alt=\"drawing\" width=\"1200\"/>\n",
    "\n",
    "If you want to sort from small -> large, or A - Z, then we will sort in **ascending** order. <br>\n",
    "If you want to sort from large -> small, or Z - A, then we will sort in **descending** order."
   ]
  },
  {
   "cell_type": "code",
   "execution_count": null,
   "id": "95654db0",
   "metadata": {},
   "outputs": [],
   "source": [
    "tbl.sort()"
   ]
  },
  {
   "cell_type": "markdown",
   "id": "bd769951",
   "metadata": {},
   "source": [
    "### Filtering our table based upon a condition\n",
    "\n",
    "Sometimes we want to narrow down our list of individuals based upon a status or condition and look at them in their own table. We can do so using the following method: \n",
    "<img src=\"Table_where.png\" alt=\"drawing\" width=\"1200\"/>\n",
    "\n",
    "Note that our condition is defined as a predicate. The table of predicates below: \n",
    "<img src=\"Table_where_predicates.png\" alt=\"drawing\" width=\"1200\"/>"
   ]
  },
  {
   "cell_type": "code",
   "execution_count": null,
   "id": "bc53047a",
   "metadata": {},
   "outputs": [],
   "source": [
    "tbl.where(,)"
   ]
  }
 ],
 "metadata": {
  "kernelspec": {
   "display_name": "Python 3 (ipykernel)",
   "language": "python",
   "name": "python3"
  },
  "language_info": {
   "codemirror_mode": {
    "name": "ipython",
    "version": 3
   },
   "file_extension": ".py",
   "mimetype": "text/x-python",
   "name": "python",
   "nbconvert_exporter": "python",
   "pygments_lexer": "ipython3",
   "version": "3.10.11"
  }
 },
 "nbformat": 4,
 "nbformat_minor": 5
}
