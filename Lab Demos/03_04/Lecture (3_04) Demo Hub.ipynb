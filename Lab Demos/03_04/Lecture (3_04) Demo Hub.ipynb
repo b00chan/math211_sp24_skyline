{
 "cells": [
  {
   "cell_type": "markdown",
   "id": "ad2e12c1",
   "metadata": {},
   "source": [
    "# [Python Reference Link](http://www.data8.org/sp20/python-reference.html)\n",
    "*Run the cell below so that we can set our modules up*"
   ]
  },
  {
   "cell_type": "code",
   "execution_count": null,
   "id": "ed49d269",
   "metadata": {},
   "outputs": [],
   "source": [
    "import numpy as np\n",
    "from datascience import *\n",
    "\n",
    "# These lines set up graphing capabilities.\n",
    "import matplotlib\n",
    "%matplotlib inline\n",
    "import matplotlib.pyplot as plt\n",
    "plt.style.use('fivethirtyeight')\n",
    "import warnings\n",
    "warnings.simplefilter('ignore', FutureWarning)\n",
    "\n",
    "from ipywidgets import interact, interactive, fixed, interact_manual\n",
    "import ipywidgets as widgets"
   ]
  },
  {
   "cell_type": "markdown",
   "id": "5b6a4570",
   "metadata": {},
   "source": [
    "# Importing our data"
   ]
  },
  {
   "cell_type": "code",
   "execution_count": null,
   "id": "2569931d",
   "metadata": {},
   "outputs": [],
   "source": [
    "math211_survey = Table.read_table('Sp24_Math_211_Survey_cleaned.csv')\n",
    "travel_distances = Table.read_table('Travel_Destination_Distances.csv')"
   ]
  },
  {
   "cell_type": "markdown",
   "id": "c5f4467f",
   "metadata": {},
   "source": [
    "# The method/function: `tbl.group` "
   ]
  },
  {
   "cell_type": "code",
   "execution_count": null,
   "id": "9e053351",
   "metadata": {},
   "outputs": [],
   "source": [
    "math211_survey.show(15)"
   ]
  },
  {
   "cell_type": "markdown",
   "id": "9b0c08c0",
   "metadata": {},
   "source": [
    "We see that our names show up under the **Surveyor** column, multiple times. To help us understand who retrieved the most responses from our campus community, we want to generate a unique list of our names. We can achieve this using the `group` method:\n",
    "\n",
    "<img src=\"table_group.png\" alt=\"drawing\" width=\"1200\"/>\n",
    "\n",
    "*From the [Python reference](http://www.data8.org/sp20/python-reference.html) page"
   ]
  },
  {
   "cell_type": "code",
   "execution_count": null,
   "id": "783b5878",
   "metadata": {
    "scrolled": true
   },
   "outputs": [],
   "source": []
  },
  {
   "cell_type": "code",
   "execution_count": null,
   "id": "801dcd18",
   "metadata": {},
   "outputs": [],
   "source": []
  },
  {
   "cell_type": "markdown",
   "id": "4b2bed8c",
   "metadata": {},
   "source": [
    "### Practice Question: \n",
    "\n",
    "Earlier this semester, we developed some [hypothesis questions about our survey responses against a value](https://smccd.instructure.com/courses/55188/assignments/1513664). Let's investigate this question using the `.group` method:"
   ]
  },
  {
   "cell_type": "code",
   "execution_count": null,
   "id": "de07e423",
   "metadata": {},
   "outputs": [],
   "source": []
  },
  {
   "cell_type": "code",
   "execution_count": null,
   "id": "ee49c4f5",
   "metadata": {},
   "outputs": [],
   "source": []
  },
  {
   "cell_type": "markdown",
   "id": "136ccaa1",
   "metadata": {},
   "source": [
    "# The method/function: `tbl.join` \n",
    "\n",
    "In [last week's demo notebook](https://skyline.cloudbank.2i2c.cloud/hub/user-redirect/git-pull?repo=https%3A%2F%2Fgithub.com%2Fb00chan%2Fmath211_sp24_skyline&urlpath=tree%2Fmath211_sp24_skyline%2FLab+Demos%2F02_26%2FLecture+%282_26%29+Demo+Hub.ipynb&branch=main), we took a look at defining a function to retrieve distances to our favorite travel destinations and applying it to our survey table. Since our travel distances were stored in a table, we can alternatively achieve the same results using the `join` method:\n",
    "\n",
    "<img src=\"table_join.png\" alt=\"drawing\" width=\"1200\"/>\n",
    "\n",
    "*From the [Python reference](http://www.data8.org/sp20/python-reference.html) page"
   ]
  },
  {
   "cell_type": "code",
   "execution_count": null,
   "id": "9339d371",
   "metadata": {},
   "outputs": [],
   "source": [
    "math211_survey.show(5)\n",
    "travel_distances.show(5)"
   ]
  },
  {
   "cell_type": "code",
   "execution_count": null,
   "id": "f7acb023",
   "metadata": {},
   "outputs": [],
   "source": []
  },
  {
   "cell_type": "code",
   "execution_count": null,
   "id": "4e2215ae",
   "metadata": {},
   "outputs": [],
   "source": []
  },
  {
   "cell_type": "code",
   "execution_count": null,
   "id": "c9e3f026",
   "metadata": {},
   "outputs": [],
   "source": []
  },
  {
   "cell_type": "markdown",
   "id": "63a196ca",
   "metadata": {},
   "source": [
    "# The method/function: `tbl.pivot` \n",
    "\n",
    "Earlier this semester, we developed some [hypothesis questions comparing two variables against each other](https://smccd.instructure.com/courses/55188/assignments/1513665). Let's use that question to motivate our `pivot` method:\n",
    "\n",
    "<img src=\"table_pivot.png\" alt=\"drawing\" width=\"1200\"/>\n",
    "\n",
    "*From the [Python reference](http://www.data8.org/sp20/python-reference.html) page"
   ]
  },
  {
   "cell_type": "code",
   "execution_count": null,
   "id": "84030c94",
   "metadata": {},
   "outputs": [],
   "source": []
  },
  {
   "cell_type": "code",
   "execution_count": null,
   "id": "dcc89bc5",
   "metadata": {},
   "outputs": [],
   "source": []
  },
  {
   "cell_type": "code",
   "execution_count": null,
   "id": "9782a390",
   "metadata": {},
   "outputs": [],
   "source": []
  }
 ],
 "metadata": {
  "kernelspec": {
   "display_name": "Python 3 (ipykernel)",
   "language": "python",
   "name": "python3"
  },
  "language_info": {
   "codemirror_mode": {
    "name": "ipython",
    "version": 3
   },
   "file_extension": ".py",
   "mimetype": "text/x-python",
   "name": "python",
   "nbconvert_exporter": "python",
   "pygments_lexer": "ipython3",
   "version": "3.10.11"
  }
 },
 "nbformat": 4,
 "nbformat_minor": 5
}
