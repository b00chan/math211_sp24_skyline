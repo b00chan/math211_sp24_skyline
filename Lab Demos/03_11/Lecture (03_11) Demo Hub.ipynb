{
 "cells": [
  {
   "cell_type": "markdown",
   "id": "d5716ba2",
   "metadata": {},
   "source": [
    "# [Python Reference Link](http://www.data8.org/sp20/python-reference.html)\n",
    "*Run the cell below so that we can set our modules up*"
   ]
  },
  {
   "cell_type": "code",
   "execution_count": null,
   "id": "35b1d233",
   "metadata": {},
   "outputs": [],
   "source": [
    "import numpy as np\n",
    "from datascience import *\n",
    "\n",
    "# These lines set up graphing capabilities.\n",
    "import matplotlib\n",
    "%matplotlib inline\n",
    "import matplotlib.pyplot as plt\n",
    "plt.style.use('fivethirtyeight')\n",
    "import warnings\n",
    "warnings.simplefilter('ignore', FutureWarning)\n",
    "\n",
    "from ipywidgets import interact, interactive, fixed, interact_manual\n",
    "import ipywidgets as widgets"
   ]
  },
  {
   "cell_type": "markdown",
   "id": "d2a339a8",
   "metadata": {},
   "source": [
    "## Importing our Data:"
   ]
  },
  {
   "cell_type": "code",
   "execution_count": null,
   "id": "0f4d2fcd",
   "metadata": {},
   "outputs": [],
   "source": [
    "math211_survey = Table.read_table(\"Sp24_Math_211_Survey_cleaned.2.csv\")\n",
    "math211_survey.show(5)"
   ]
  },
  {
   "cell_type": "markdown",
   "id": "5c601c54",
   "metadata": {},
   "source": [
    "# Demo Request! \n",
    "\n",
    "## [Homework04](https://skyline.cloudbank.2i2c.cloud/hub/user-redirect/git-pull?repo=https%3A%2F%2Fgithub.com%2Fb00chan%2Fmath211_sp24_skyline&urlpath=tree%2Fmath211_sp24_skyline%2FHW%2Fhw04%2Fhw04.ipynb&branch=main), Section 2, Question 2.1\n",
    "\n",
    "**Question 1.** Set `job_titles` to a table with two columns. The first column should be called `Organization Group` and have the name of every \"Organization Group\" once, and the second column should be called `Jobs` with each row in that second column containing an *array* of the names of all the job titles within that \"Organization Group\". Don't worry if there are multiple of the same job titles. **(9 Points)**\n",
    "\n",
    "*Hint:* Think about how `group` works: it collects values into an array and then applies a function to that array. We have defined two functions below for you, and you will need to use one of them in your call to `group`. "
   ]
  },
  {
   "cell_type": "code",
   "execution_count": null,
   "id": "cad89b09",
   "metadata": {},
   "outputs": [],
   "source": [
    "# Pick one of the two functions defined below in your call to group.\n",
    "def first_item(array):\n",
    "    '''Returns the first item'''\n",
    "    return array.item(0)\n",
    "\n",
    "def full_array(array):\n",
    "    '''Returns the array that is passed through'''\n",
    "    return array \n",
    "\n",
    "# Make a call to group using one of the functions above when you define job_titles\n",
    "job_titles = ...\n",
    "job_titles"
   ]
  },
  {
   "cell_type": "markdown",
   "id": "b9390739",
   "metadata": {},
   "source": [
    "Screenshot of Solution: \n",
    "\n",
    "<img src=\"hw04_s2_q2_1.png\" alt=\"drawing\" width=\"550\"/>"
   ]
  },
  {
   "cell_type": "markdown",
   "id": "67118111",
   "metadata": {},
   "source": [
    "## Let's try a parallel question"
   ]
  },
  {
   "cell_type": "markdown",
   "id": "46b0a2ec",
   "metadata": {},
   "source": [
    "**Question 1.** Set `seasonal_travel` to a table with two columns. The first column should be called ***`Season` and have the name of every \"Season\" once***, and the second column should be called `Travel Destinations` with each row in that second column containing an *array* of all the desired travel destinations within that \"Season\". Don't worry if there are multiple of the same travel destinations. **(9 Points)**\n",
    "\n",
    "*Hint:* Think about how `group` works: it collects values into an array and then applies a function to that array. We have defined two functions below for you, and you will need to use one of them in your call to `group`. "
   ]
  },
  {
   "cell_type": "code",
   "execution_count": null,
   "id": "29a3d97b",
   "metadata": {},
   "outputs": [],
   "source": [
    "# Pick one of the two functions defined below in your call to group.\n",
    "def first_item(array):\n",
    "    '''Returns the first item'''\n",
    "    return array.item(0)\n",
    "\n",
    "def full_array(array):\n",
    "    '''Returns the array that is passed through'''\n",
    "    return array \n",
    "\n",
    "# Make a call to group using one of the functions above when you define job_titles\n",
    "seasonal_travel = ...\n",
    "seasonal_travel"
   ]
  },
  {
   "cell_type": "code",
   "execution_count": null,
   "id": "574ca02f",
   "metadata": {},
   "outputs": [],
   "source": []
  }
 ],
 "metadata": {
  "kernelspec": {
   "display_name": "Python 3 (ipykernel)",
   "language": "python",
   "name": "python3"
  },
  "language_info": {
   "codemirror_mode": {
    "name": "ipython",
    "version": 3
   },
   "file_extension": ".py",
   "mimetype": "text/x-python",
   "name": "python",
   "nbconvert_exporter": "python",
   "pygments_lexer": "ipython3",
   "version": "3.10.11"
  }
 },
 "nbformat": 4,
 "nbformat_minor": 5
}
