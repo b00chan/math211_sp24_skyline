{
 "cells": [
  {
   "cell_type": "markdown",
   "id": "ad2e12c1",
   "metadata": {},
   "source": [
    "# [Python Reference Link](http://www.data8.org/sp20/python-reference.html)\n",
    "*Run the cell below so that we can set our modules up*"
   ]
  },
  {
   "cell_type": "code",
   "execution_count": null,
   "id": "ed49d269",
   "metadata": {},
   "outputs": [],
   "source": [
    "import numpy as np\n",
    "from datascience import *"
   ]
  },
  {
   "cell_type": "markdown",
   "id": "58f02e5e",
   "metadata": {},
   "source": [
    "# `np.arange` from the [NumPy](https://numpy.org/doc/stable/reference/generated/numpy.arange.html) module"
   ]
  },
  {
   "cell_type": "code",
   "execution_count": null,
   "id": "f4a25046",
   "metadata": {},
   "outputs": [],
   "source": [
    "#np.arange(stop)\n",
    "np.arange(6)"
   ]
  },
  {
   "cell_type": "code",
   "execution_count": null,
   "id": "98530652",
   "metadata": {},
   "outputs": [],
   "source": [
    "#np.arange(start,stop)\n",
    "np.arange(6,10)"
   ]
  },
  {
   "cell_type": "code",
   "execution_count": null,
   "id": "d5b3ed61",
   "metadata": {},
   "outputs": [],
   "source": [
    "#np.arange(start,stop,step)\n",
    "np.arange(2,8,3)"
   ]
  },
  {
   "cell_type": "markdown",
   "id": "c5f4467f",
   "metadata": {},
   "source": [
    "# Building Tables"
   ]
  },
  {
   "cell_type": "code",
   "execution_count": null,
   "id": "783b5878",
   "metadata": {},
   "outputs": [],
   "source": [
    "math211_survey = Table.read_table('Math211_Class_Survey_OG.csv')\n",
    "math211_survey.show(4)"
   ]
  },
  {
   "cell_type": "code",
   "execution_count": null,
   "id": "3aa88e19",
   "metadata": {
    "scrolled": true
   },
   "outputs": [],
   "source": [
    "survey = Table.read_table('Math211_Class_Survey_cleaned_labels.csv')\n",
    "survey.show(5)"
   ]
  },
  {
   "cell_type": "code",
   "execution_count": null,
   "id": "70724c62",
   "metadata": {},
   "outputs": [],
   "source": [
    "subscription = make_array('Netflix','HBO Max','Hulu','Crunchyroll','Spotify','DoorDash','AmazonPrime','Discord Nitro')\n",
    "subscription"
   ]
  },
  {
   "cell_type": "code",
   "execution_count": null,
   "id": "b8e766a5",
   "metadata": {},
   "outputs": [],
   "source": [
    "#Amazon and Discord are annual fees\n",
    "month_fee_cost = make_array(19.99,14.99,9.99,9.99,9.99,9.99,(130/12),(169.97/12))\n",
    "month_fee_cost"
   ]
  },
  {
   "cell_type": "code",
   "execution_count": null,
   "id": "fa5dc5ba",
   "metadata": {},
   "outputs": [],
   "source": [
    "bryans_monthly_subscriptions = Table().with_columns('Subscription',subscription,'$$ per month',month_fee_cost)\n",
    "bryans_monthly_subscriptions"
   ]
  },
  {
   "cell_type": "code",
   "execution_count": null,
   "id": "2023e898",
   "metadata": {},
   "outputs": [],
   "source": [
    "#annual_cost = bryans_monthly_subscriptions.column('$$ per month') * 12\n",
    "#OR, below\n",
    "annual_cost = month_fee_cost *12 \n",
    "annual_cost"
   ]
  },
  {
   "cell_type": "code",
   "execution_count": null,
   "id": "69940014",
   "metadata": {
    "scrolled": true
   },
   "outputs": [],
   "source": [
    "new_table = bryans_monthly_subscriptions.with_column('$$ each year',annual_cost)#.drop('$$ per month')\n",
    "new_table"
   ]
  },
  {
   "cell_type": "code",
   "execution_count": null,
   "id": "8345a7e1",
   "metadata": {},
   "outputs": [],
   "source": [
    "sum(annual_cost)"
   ]
  },
  {
   "cell_type": "code",
   "execution_count": null,
   "id": "b0a36844",
   "metadata": {},
   "outputs": [],
   "source": [
    "new_new = new_table.take(np.arange(4))"
   ]
  },
  {
   "cell_type": "code",
   "execution_count": null,
   "id": "0ef1f9bd",
   "metadata": {},
   "outputs": [],
   "source": [
    "#since new_table.take() was not assigned to a variable (old or new) the result of the .take() method was not saved\n",
    "new_table"
   ]
  },
  {
   "cell_type": "code",
   "execution_count": null,
   "id": "3c6583a8",
   "metadata": {},
   "outputs": [],
   "source": [
    "new_new"
   ]
  },
  {
   "cell_type": "markdown",
   "id": "f518ca57",
   "metadata": {},
   "source": [
    "# Order of Operations with tables"
   ]
  },
  {
   "cell_type": "markdown",
   "id": "868124cc",
   "metadata": {},
   "source": [
    "Let's run the cell below and take a look at the following movie dataset:"
   ]
  },
  {
   "cell_type": "code",
   "execution_count": null,
   "id": "62f6f472",
   "metadata": {},
   "outputs": [],
   "source": [
    "movies = Table.read_table('Movies - Cleaned.csv')\n",
    "movies.show(5)"
   ]
  },
  {
   "cell_type": "markdown",
   "id": "a2c6cab6",
   "metadata": {},
   "source": [
    "## Question: How many movies in this data set were sequels?"
   ]
  },
  {
   "cell_type": "code",
   "execution_count": null,
   "id": "51de610b",
   "metadata": {},
   "outputs": [],
   "source": [
    "..."
   ]
  },
  {
   "cell_type": "code",
   "execution_count": null,
   "id": "442dd524",
   "metadata": {},
   "outputs": [],
   "source": []
  },
  {
   "cell_type": "code",
   "execution_count": null,
   "id": "85d298a0",
   "metadata": {},
   "outputs": [],
   "source": []
  },
  {
   "cell_type": "markdown",
   "id": "50cb13e9",
   "metadata": {},
   "source": [
    "## How many movies had sequels that were rated higher than the original? On average, do they perform better, or worse? "
   ]
  },
  {
   "cell_type": "code",
   "execution_count": null,
   "id": "dc20ed54",
   "metadata": {},
   "outputs": [],
   "source": [
    "..."
   ]
  },
  {
   "cell_type": "code",
   "execution_count": null,
   "id": "7df75cff",
   "metadata": {},
   "outputs": [],
   "source": []
  },
  {
   "cell_type": "markdown",
   "id": "47adac9f",
   "metadata": {},
   "source": [
    "## Challenge!"
   ]
  },
  {
   "cell_type": "markdown",
   "id": "9fc6c2f4",
   "metadata": {},
   "source": [
    "Let's suppose that you had the movies data stored in a USB Drive. You know how computers almost always scream at you for yanking out the USB Drive before you 'eject' it? Usually, nothing happens...\n",
    "\n",
    "But in this situation, let's say it does and you get the following table below: "
   ]
  },
  {
   "cell_type": "code",
   "execution_count": null,
   "id": "d33b6b45",
   "metadata": {},
   "outputs": [],
   "source": [
    "challenge_movies = movies.drop('Order','index','Description','URL','Num Votes','Directors','Release Date').sample(movies.num_rows)\n",
    "challenge_movies"
   ]
  },
  {
   "cell_type": "markdown",
   "id": "17189703",
   "metadata": {},
   "source": [
    "### Question: How can we use our methods to re-order our rows back to their original state? We unfortunately lost the columns for good... :("
   ]
  },
  {
   "cell_type": "code",
   "execution_count": null,
   "id": "69dc6698",
   "metadata": {},
   "outputs": [],
   "source": [
    "..."
   ]
  },
  {
   "cell_type": "code",
   "execution_count": null,
   "id": "a47ac607",
   "metadata": {},
   "outputs": [],
   "source": []
  },
  {
   "cell_type": "markdown",
   "id": "15a0f120",
   "metadata": {},
   "source": [
    "# "
   ]
  }
 ],
 "metadata": {
  "kernelspec": {
   "display_name": "Python 3 (ipykernel)",
   "language": "python",
   "name": "python3"
  },
  "language_info": {
   "codemirror_mode": {
    "name": "ipython",
    "version": 3
   },
   "file_extension": ".py",
   "mimetype": "text/x-python",
   "name": "python",
   "nbconvert_exporter": "python",
   "pygments_lexer": "ipython3",
   "version": "3.10.11"
  }
 },
 "nbformat": 4,
 "nbformat_minor": 5
}
